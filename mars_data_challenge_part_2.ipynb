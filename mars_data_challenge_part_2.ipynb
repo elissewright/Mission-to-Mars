{
 "cells": [
  {
   "cell_type": "code",
   "execution_count": 1,
   "id": "a7f97998",
   "metadata": {},
   "outputs": [],
   "source": [
    "# Import dependencies\n",
    "from splinter import Browser\n",
    "from bs4 import BeautifulSoup as soup\n",
    "from webdriver_manager.chrome import ChromeDriverManager\n",
    "import pandas as pd\n",
    "import matplotlib.pyplot as plt\n",
    "%matplotlib inline"
   ]
  },
  {
   "cell_type": "code",
   "execution_count": 2,
   "id": "722ecfd5",
   "metadata": {},
   "outputs": [
    {
     "name": "stderr",
     "output_type": "stream",
     "text": [
      "[WDM] - Downloading: 100%|██████████| 6.46M/6.46M [00:01<00:00, 5.07MB/s]\n"
     ]
    }
   ],
   "source": [
    "executable_path = {'executable_path': ChromeDriverManager().install()}\n",
    "browser = Browser('chrome', **executable_path, headless=False)"
   ]
  },
  {
   "cell_type": "code",
   "execution_count": 3,
   "id": "ab697752",
   "metadata": {},
   "outputs": [
    {
     "data": {
      "text/plain": [
       "False"
      ]
     },
     "execution_count": 3,
     "metadata": {},
     "output_type": "execute_result"
    }
   ],
   "source": [
    "# Open the website and delay the loading \n",
    "url = 'https://data-class-mars-challenge.s3.amazonaws.com/Mars/index.html'\n",
    "browser.visit(url)\n",
    "browser.is_element_present_by_css('div.list_text', wait_time=1)"
   ]
  },
  {
   "cell_type": "code",
   "execution_count": 4,
   "id": "d0897027",
   "metadata": {},
   "outputs": [],
   "source": [
    "# Set up the HTML parser\n",
    "html = browser.html\n",
    "soup = soup(html, 'html.parser')"
   ]
  },
  {
   "cell_type": "code",
   "execution_count": 12,
   "id": "9aa35620",
   "metadata": {},
   "outputs": [
    {
     "data": {
      "text/html": [
       "<div>\n",
       "<style scoped>\n",
       "    .dataframe tbody tr th:only-of-type {\n",
       "        vertical-align: middle;\n",
       "    }\n",
       "\n",
       "    .dataframe tbody tr th {\n",
       "        vertical-align: top;\n",
       "    }\n",
       "\n",
       "    .dataframe thead th {\n",
       "        text-align: right;\n",
       "    }\n",
       "</style>\n",
       "<table border=\"1\" class=\"dataframe\">\n",
       "  <thead>\n",
       "    <tr style=\"text-align: right;\">\n",
       "      <th></th>\n",
       "      <th>id</th>\n",
       "      <th>terrestrial_date</th>\n",
       "      <th>sol</th>\n",
       "      <th>ls</th>\n",
       "      <th>month</th>\n",
       "      <th>min_temp</th>\n",
       "      <th>pressure</th>\n",
       "    </tr>\n",
       "  </thead>\n",
       "  <tbody>\n",
       "    <tr>\n",
       "      <th>489</th>\n",
       "      <td>512</td>\n",
       "      <td>2014-03-13</td>\n",
       "      <td>569</td>\n",
       "      <td>101</td>\n",
       "      <td>4</td>\n",
       "      <td>-85.0</td>\n",
       "      <td>825.0</td>\n",
       "    </tr>\n",
       "    <tr>\n",
       "      <th>1827</th>\n",
       "      <td>1859</td>\n",
       "      <td>2018-01-18</td>\n",
       "      <td>1938</td>\n",
       "      <td>116</td>\n",
       "      <td>4</td>\n",
       "      <td>-78.0</td>\n",
       "      <td>762.0</td>\n",
       "    </tr>\n",
       "    <tr>\n",
       "      <th>467</th>\n",
       "      <td>488</td>\n",
       "      <td>2014-02-19</td>\n",
       "      <td>547</td>\n",
       "      <td>91</td>\n",
       "      <td>4</td>\n",
       "      <td>-85.0</td>\n",
       "      <td>853.0</td>\n",
       "    </tr>\n",
       "    <tr>\n",
       "      <th>1793</th>\n",
       "      <td>1822</td>\n",
       "      <td>2017-12-14</td>\n",
       "      <td>1904</td>\n",
       "      <td>100</td>\n",
       "      <td>4</td>\n",
       "      <td>-79.0</td>\n",
       "      <td>801.0</td>\n",
       "    </tr>\n",
       "    <tr>\n",
       "      <th>487</th>\n",
       "      <td>510</td>\n",
       "      <td>2014-03-11</td>\n",
       "      <td>567</td>\n",
       "      <td>100</td>\n",
       "      <td>4</td>\n",
       "      <td>-86.0</td>\n",
       "      <td>827.0</td>\n",
       "    </tr>\n",
       "    <tr>\n",
       "      <th>186</th>\n",
       "      <td>120</td>\n",
       "      <td>2013-03-27</td>\n",
       "      <td>227</td>\n",
       "      <td>289</td>\n",
       "      <td>10</td>\n",
       "      <td>-70.0</td>\n",
       "      <td>892.0</td>\n",
       "    </tr>\n",
       "    <tr>\n",
       "      <th>338</th>\n",
       "      <td>355</td>\n",
       "      <td>2013-09-13</td>\n",
       "      <td>393</td>\n",
       "      <td>21</td>\n",
       "      <td>1</td>\n",
       "      <td>-76.0</td>\n",
       "      <td>877.0</td>\n",
       "    </tr>\n",
       "    <tr>\n",
       "      <th>1371</th>\n",
       "      <td>1397</td>\n",
       "      <td>2016-10-01</td>\n",
       "      <td>1477</td>\n",
       "      <td>233</td>\n",
       "      <td>8</td>\n",
       "      <td>-72.0</td>\n",
       "      <td>888.0</td>\n",
       "    </tr>\n",
       "    <tr>\n",
       "      <th>1845</th>\n",
       "      <td>1879</td>\n",
       "      <td>2018-02-05</td>\n",
       "      <td>1956</td>\n",
       "      <td>125</td>\n",
       "      <td>5</td>\n",
       "      <td>-79.0</td>\n",
       "      <td>744.0</td>\n",
       "    </tr>\n",
       "    <tr>\n",
       "      <th>868</th>\n",
       "      <td>895</td>\n",
       "      <td>2015-04-20</td>\n",
       "      <td>961</td>\n",
       "      <td>328</td>\n",
       "      <td>11</td>\n",
       "      <td>-71.0</td>\n",
       "      <td>849.0</td>\n",
       "    </tr>\n",
       "  </tbody>\n",
       "</table>\n",
       "</div>"
      ],
      "text/plain": [
       "        id terrestrial_date   sol   ls  month  min_temp  pressure\n",
       "489    512       2014-03-13   569  101      4     -85.0     825.0\n",
       "1827  1859       2018-01-18  1938  116      4     -78.0     762.0\n",
       "467    488       2014-02-19   547   91      4     -85.0     853.0\n",
       "1793  1822       2017-12-14  1904  100      4     -79.0     801.0\n",
       "487    510       2014-03-11   567  100      4     -86.0     827.0\n",
       "186    120       2013-03-27   227  289     10     -70.0     892.0\n",
       "338    355       2013-09-13   393   21      1     -76.0     877.0\n",
       "1371  1397       2016-10-01  1477  233      8     -72.0     888.0\n",
       "1845  1879       2018-02-05  1956  125      5     -79.0     744.0\n",
       "868    895       2015-04-20   961  328     11     -71.0     849.0"
      ]
     },
     "execution_count": 12,
     "metadata": {},
     "output_type": "execute_result"
    }
   ],
   "source": [
    "# Scrape the data in the HTML table, using either Pandas's read_html method or manually with Splinter and Beautiful Soup\n",
    "mars_df = pd.read_html(url)[0]\n",
    "mars_df.sample(10)\n",
    "# table_contents = soup.find('table', class_='table')\n",
    "# print(table_contents.text)\n",
    "# table_contents = soup.find_all('table')[0]\n",
    "# print(table_contents.text)"
   ]
  },
  {
   "cell_type": "code",
   "execution_count": 20,
   "id": "7bb5102d",
   "metadata": {},
   "outputs": [
    {
     "data": {
      "text/html": [
       "<div>\n",
       "<style scoped>\n",
       "    .dataframe tbody tr th:only-of-type {\n",
       "        vertical-align: middle;\n",
       "    }\n",
       "\n",
       "    .dataframe tbody tr th {\n",
       "        vertical-align: top;\n",
       "    }\n",
       "\n",
       "    .dataframe thead th {\n",
       "        text-align: right;\n",
       "    }\n",
       "</style>\n",
       "<table border=\"1\" class=\"dataframe\">\n",
       "  <thead>\n",
       "    <tr style=\"text-align: right;\">\n",
       "      <th></th>\n",
       "      <th>id</th>\n",
       "      <th>terrestrial_date</th>\n",
       "      <th>sol</th>\n",
       "      <th>ls</th>\n",
       "      <th>month</th>\n",
       "      <th>min_temp</th>\n",
       "      <th>pressure</th>\n",
       "    </tr>\n",
       "  </thead>\n",
       "  <tbody>\n",
       "    <tr>\n",
       "      <th>1212</th>\n",
       "      <td>1238</td>\n",
       "      <td>2016-04-12</td>\n",
       "      <td>1309</td>\n",
       "      <td>135</td>\n",
       "      <td>5</td>\n",
       "      <td>-81.0</td>\n",
       "      <td>747.0</td>\n",
       "    </tr>\n",
       "    <tr>\n",
       "      <th>505</th>\n",
       "      <td>527</td>\n",
       "      <td>2014-03-30</td>\n",
       "      <td>585</td>\n",
       "      <td>109</td>\n",
       "      <td>4</td>\n",
       "      <td>-83.0</td>\n",
       "      <td>802.0</td>\n",
       "    </tr>\n",
       "    <tr>\n",
       "      <th>340</th>\n",
       "      <td>357</td>\n",
       "      <td>2013-09-15</td>\n",
       "      <td>395</td>\n",
       "      <td>22</td>\n",
       "      <td>1</td>\n",
       "      <td>-77.0</td>\n",
       "      <td>878.0</td>\n",
       "    </tr>\n",
       "    <tr>\n",
       "      <th>804</th>\n",
       "      <td>828</td>\n",
       "      <td>2015-02-08</td>\n",
       "      <td>892</td>\n",
       "      <td>287</td>\n",
       "      <td>10</td>\n",
       "      <td>-71.0</td>\n",
       "      <td>892.0</td>\n",
       "    </tr>\n",
       "    <tr>\n",
       "      <th>207</th>\n",
       "      <td>143</td>\n",
       "      <td>2013-04-17</td>\n",
       "      <td>248</td>\n",
       "      <td>302</td>\n",
       "      <td>11</td>\n",
       "      <td>-70.0</td>\n",
       "      <td>877.0</td>\n",
       "    </tr>\n",
       "    <tr>\n",
       "      <th>832</th>\n",
       "      <td>856</td>\n",
       "      <td>2015-03-09</td>\n",
       "      <td>920</td>\n",
       "      <td>304</td>\n",
       "      <td>11</td>\n",
       "      <td>-72.0</td>\n",
       "      <td>868.0</td>\n",
       "    </tr>\n",
       "    <tr>\n",
       "      <th>286</th>\n",
       "      <td>299</td>\n",
       "      <td>2013-07-14</td>\n",
       "      <td>333</td>\n",
       "      <td>350</td>\n",
       "      <td>12</td>\n",
       "      <td>-75.0</td>\n",
       "      <td>849.0</td>\n",
       "    </tr>\n",
       "    <tr>\n",
       "      <th>980</th>\n",
       "      <td>1006</td>\n",
       "      <td>2015-08-15</td>\n",
       "      <td>1075</td>\n",
       "      <td>27</td>\n",
       "      <td>1</td>\n",
       "      <td>-77.0</td>\n",
       "      <td>879.0</td>\n",
       "    </tr>\n",
       "    <tr>\n",
       "      <th>459</th>\n",
       "      <td>476</td>\n",
       "      <td>2014-02-10</td>\n",
       "      <td>539</td>\n",
       "      <td>87</td>\n",
       "      <td>3</td>\n",
       "      <td>-85.0</td>\n",
       "      <td>864.0</td>\n",
       "    </tr>\n",
       "    <tr>\n",
       "      <th>1605</th>\n",
       "      <td>1634</td>\n",
       "      <td>2017-06-03</td>\n",
       "      <td>1715</td>\n",
       "      <td>13</td>\n",
       "      <td>1</td>\n",
       "      <td>-77.0</td>\n",
       "      <td>851.0</td>\n",
       "    </tr>\n",
       "  </tbody>\n",
       "</table>\n",
       "</div>"
      ],
      "text/plain": [
       "        id terrestrial_date   sol   ls  month  min_temp  pressure\n",
       "1212  1238       2016-04-12  1309  135      5     -81.0     747.0\n",
       "505    527       2014-03-30   585  109      4     -83.0     802.0\n",
       "340    357       2013-09-15   395   22      1     -77.0     878.0\n",
       "804    828       2015-02-08   892  287     10     -71.0     892.0\n",
       "207    143       2013-04-17   248  302     11     -70.0     877.0\n",
       "832    856       2015-03-09   920  304     11     -72.0     868.0\n",
       "286    299       2013-07-14   333  350     12     -75.0     849.0\n",
       "980   1006       2015-08-15  1075   27      1     -77.0     879.0\n",
       "459    476       2014-02-10   539   87      3     -85.0     864.0\n",
       "1605  1634       2017-06-03  1715   13      1     -77.0     851.0"
      ]
     },
     "execution_count": 20,
     "metadata": {},
     "output_type": "execute_result"
    }
   ],
   "source": [
    "# Assemble the scraped data into a Pandas DataFrame. The columns should have the same headings as the table on the website:\n",
    "# The id heading: The identification number of a single transmission from the Curiosity rover.\n",
    "# The terrestrial_date heading: The date on Earth.\n",
    "# The sol heading: The number of elapsed sols (Martian days) since Curiosity landed on Mars.\n",
    "# The ls heading: The solar longitude.\n",
    "# The month heading: The Martian month.\n",
    "# The min_temp heading: The minimum temperature, in Celsius, of a single Martian day (sol).\n",
    "# The pressure heading: The atmospheric pressure at Curiosity's location.\n",
    "mars_table = pd.DataFrame(mars_df, columns=['id', 'terrestrial_date', 'sol', 'ls', 'month', 'min_temp', 'pressure'])\n",
    "mars_table.sample(10)"
   ]
  },
  {
   "cell_type": "code",
   "execution_count": 24,
   "id": "95f546b9",
   "metadata": {},
   "outputs": [
    {
     "name": "stdout",
     "output_type": "stream",
     "text": [
      "<class 'pandas.core.frame.DataFrame'>\n",
      "RangeIndex: 1867 entries, 0 to 1866\n",
      "Data columns (total 7 columns):\n",
      " #   Column            Non-Null Count  Dtype  \n",
      "---  ------            --------------  -----  \n",
      " 0   id                1867 non-null   int64  \n",
      " 1   terrestrial_date  1867 non-null   object \n",
      " 2   sol               1867 non-null   int64  \n",
      " 3   ls                1867 non-null   int64  \n",
      " 4   month             1867 non-null   int64  \n",
      " 5   min_temp          1867 non-null   float64\n",
      " 6   pressure          1867 non-null   float64\n",
      "dtypes: float64(2), int64(4), object(1)\n",
      "memory usage: 102.2+ KB\n"
     ]
    }
   ],
   "source": [
    "# Examine the data types of all the DataFrame columns.\n",
    "mars_table.info()"
   ]
  },
  {
   "cell_type": "code",
   "execution_count": 25,
   "id": "8607253f",
   "metadata": {},
   "outputs": [
    {
     "name": "stdout",
     "output_type": "stream",
     "text": [
      "<class 'pandas.core.frame.DataFrame'>\n",
      "RangeIndex: 1867 entries, 0 to 1866\n",
      "Data columns (total 7 columns):\n",
      " #   Column            Non-Null Count  Dtype         \n",
      "---  ------            --------------  -----         \n",
      " 0   id                1867 non-null   int64         \n",
      " 1   terrestrial_date  1867 non-null   datetime64[ns]\n",
      " 2   sol               1867 non-null   int64         \n",
      " 3   ls                1867 non-null   int64         \n",
      " 4   month             1867 non-null   int64         \n",
      " 5   min_temp          1867 non-null   float64       \n",
      " 6   pressure          1867 non-null   float64       \n",
      "dtypes: datetime64[ns](1), float64(2), int64(4)\n",
      "memory usage: 102.2 KB\n"
     ]
    }
   ],
   "source": [
    "# If necessary, cast (or convert) the data to the appropriate datetime, int, or float data types\n",
    "mars_table['terrestrial_date'] = pd.to_datetime(mars_table['terrestrial_date'])\n",
    "mars_table.info()"
   ]
  },
  {
   "cell_type": "code",
   "execution_count": 27,
   "id": "95ef6f2a",
   "metadata": {},
   "outputs": [
    {
     "name": "stdout",
     "output_type": "stream",
     "text": [
      "12 months on Mars\n"
     ]
    }
   ],
   "source": [
    "# How many months exist on Mars\n",
    "months = mars_table['month'].nunique()\n",
    "print(months, f'months on Mars')"
   ]
  },
  {
   "cell_type": "code",
   "execution_count": 28,
   "id": "8c86bbee",
   "metadata": {},
   "outputs": [
    {
     "name": "stdout",
     "output_type": "stream",
     "text": [
      "1867 Martian days of data\n"
     ]
    }
   ],
   "source": [
    "# How many Martian (and not Earth) days worth of data exist in the scraped dataset?\n",
    "martian_days = mars_table['sol'].nunique()\n",
    "print(martian_days, f'Martian days of data')"
   ]
  },
  {
   "cell_type": "code",
   "execution_count": 48,
   "id": "e8d89dd3",
   "metadata": {},
   "outputs": [
    {
     "data": {
      "text/html": [
       "<div>\n",
       "<style scoped>\n",
       "    .dataframe tbody tr th:only-of-type {\n",
       "        vertical-align: middle;\n",
       "    }\n",
       "\n",
       "    .dataframe tbody tr th {\n",
       "        vertical-align: top;\n",
       "    }\n",
       "\n",
       "    .dataframe thead th {\n",
       "        text-align: right;\n",
       "    }\n",
       "</style>\n",
       "<table border=\"1\" class=\"dataframe\">\n",
       "  <thead>\n",
       "    <tr style=\"text-align: right;\">\n",
       "      <th></th>\n",
       "      <th>id</th>\n",
       "      <th>sol</th>\n",
       "      <th>ls</th>\n",
       "      <th>min_temp</th>\n",
       "      <th>pressure</th>\n",
       "    </tr>\n",
       "    <tr>\n",
       "      <th>month</th>\n",
       "      <th></th>\n",
       "      <th></th>\n",
       "      <th></th>\n",
       "      <th></th>\n",
       "      <th></th>\n",
       "    </tr>\n",
       "  </thead>\n",
       "  <tbody>\n",
       "    <tr>\n",
       "      <th>3</th>\n",
       "      <td>1132.697917</td>\n",
       "      <td>1204.406250</td>\n",
       "      <td>75.010417</td>\n",
       "      <td>-83.307292</td>\n",
       "      <td>877.322917</td>\n",
       "    </tr>\n",
       "    <tr>\n",
       "      <th>4</th>\n",
       "      <td>1175.164948</td>\n",
       "      <td>1244.500000</td>\n",
       "      <td>104.365979</td>\n",
       "      <td>-82.747423</td>\n",
       "      <td>806.329897</td>\n",
       "    </tr>\n",
       "    <tr>\n",
       "      <th>2</th>\n",
       "      <td>1109.882022</td>\n",
       "      <td>1175.853933</td>\n",
       "      <td>44.258427</td>\n",
       "      <td>-79.932584</td>\n",
       "      <td>889.455056</td>\n",
       "    </tr>\n",
       "    <tr>\n",
       "      <th>5</th>\n",
       "      <td>1115.033557</td>\n",
       "      <td>1182.691275</td>\n",
       "      <td>132.885906</td>\n",
       "      <td>-79.308725</td>\n",
       "      <td>748.557047</td>\n",
       "    </tr>\n",
       "    <tr>\n",
       "      <th>1</th>\n",
       "      <td>1013.873563</td>\n",
       "      <td>1077.574713</td>\n",
       "      <td>15.281609</td>\n",
       "      <td>-77.160920</td>\n",
       "      <td>862.488506</td>\n",
       "    </tr>\n",
       "    <tr>\n",
       "      <th>6</th>\n",
       "      <td>735.306122</td>\n",
       "      <td>750.829932</td>\n",
       "      <td>164.897959</td>\n",
       "      <td>-75.299320</td>\n",
       "      <td>745.054422</td>\n",
       "    </tr>\n",
       "    <tr>\n",
       "      <th>12</th>\n",
       "      <td>931.602410</td>\n",
       "      <td>990.951807</td>\n",
       "      <td>344.692771</td>\n",
       "      <td>-74.451807</td>\n",
       "      <td>842.156627</td>\n",
       "    </tr>\n",
       "    <tr>\n",
       "      <th>7</th>\n",
       "      <td>714.549296</td>\n",
       "      <td>715.105634</td>\n",
       "      <td>194.894366</td>\n",
       "      <td>-72.281690</td>\n",
       "      <td>795.105634</td>\n",
       "    </tr>\n",
       "    <tr>\n",
       "      <th>11</th>\n",
       "      <td>874.246377</td>\n",
       "      <td>947.224638</td>\n",
       "      <td>314.536232</td>\n",
       "      <td>-71.985507</td>\n",
       "      <td>857.014493</td>\n",
       "    </tr>\n",
       "    <tr>\n",
       "      <th>10</th>\n",
       "      <td>955.723214</td>\n",
       "      <td>1034.669643</td>\n",
       "      <td>286.330357</td>\n",
       "      <td>-71.982143</td>\n",
       "      <td>887.312500</td>\n",
       "    </tr>\n",
       "    <tr>\n",
       "      <th>9</th>\n",
       "      <td>785.843284</td>\n",
       "      <td>861.186567</td>\n",
       "      <td>254.052239</td>\n",
       "      <td>-69.171642</td>\n",
       "      <td>913.305970</td>\n",
       "    </tr>\n",
       "    <tr>\n",
       "      <th>8</th>\n",
       "      <td>718.078014</td>\n",
       "      <td>795.333333</td>\n",
       "      <td>224.347518</td>\n",
       "      <td>-68.382979</td>\n",
       "      <td>873.829787</td>\n",
       "    </tr>\n",
       "  </tbody>\n",
       "</table>\n",
       "</div>"
      ],
      "text/plain": [
       "                id          sol          ls   min_temp    pressure\n",
       "month                                                             \n",
       "3      1132.697917  1204.406250   75.010417 -83.307292  877.322917\n",
       "4      1175.164948  1244.500000  104.365979 -82.747423  806.329897\n",
       "2      1109.882022  1175.853933   44.258427 -79.932584  889.455056\n",
       "5      1115.033557  1182.691275  132.885906 -79.308725  748.557047\n",
       "1      1013.873563  1077.574713   15.281609 -77.160920  862.488506\n",
       "6       735.306122   750.829932  164.897959 -75.299320  745.054422\n",
       "12      931.602410   990.951807  344.692771 -74.451807  842.156627\n",
       "7       714.549296   715.105634  194.894366 -72.281690  795.105634\n",
       "11      874.246377   947.224638  314.536232 -71.985507  857.014493\n",
       "10      955.723214  1034.669643  286.330357 -71.982143  887.312500\n",
       "9       785.843284   861.186567  254.052239 -69.171642  913.305970\n",
       "8       718.078014   795.333333  224.347518 -68.382979  873.829787"
      ]
     },
     "execution_count": 48,
     "metadata": {},
     "output_type": "execute_result"
    }
   ],
   "source": [
    "# What are the coldest and the warmest months on Mars (at the location of Curiosity)? Get the answer by averaging the minimum \n",
    "# daily temperature of all the months. \n",
    "cold_temp = mars_table.groupby('month').mean().sort_values('min_temp')\n",
    "cold_temp\n",
    "# The month that has the lowest average temperature is month 3, while month 8 has the highest average temperature "
   ]
  },
  {
   "cell_type": "code",
   "execution_count": 49,
   "id": "18d5e804",
   "metadata": {},
   "outputs": [
    {
     "data": {
      "text/plain": [
       "Text(0.5, 1.0, 'Monthly Minimum Temperature on Mars')"
      ]
     },
     "execution_count": 49,
     "metadata": {},
     "output_type": "execute_result"
    },
    {
     "data": {
      "image/png": "[encoded data removed]",
      "text/plain": [
       "<Figure size 432x288 with 1 Axes>"
      ]
     },
     "metadata": {
      "needs_background": "light"
     },
     "output_type": "display_data"
    }
   ],
   "source": [
    "# Plot the results as a bar chart\n",
    "mars_temps = mars_table[['month', 'min_temp']].copy()\n",
    "plt.bar(mars_temps['month'], mars_temps['min_temp'])\n",
    "plt.xlabel('Month')\n",
    "plt.ylabel('Minimum Temperature')\n",
    "plt.title('Monthly Minimum Temperature on Mars')"
   ]
  },
  {
   "cell_type": "code",
   "execution_count": 40,
   "id": "e9c7314f",
   "metadata": {},
   "outputs": [
    {
     "data": {
      "text/html": [
       "<div>\n",
       "<style scoped>\n",
       "    .dataframe tbody tr th:only-of-type {\n",
       "        vertical-align: middle;\n",
       "    }\n",
       "\n",
       "    .dataframe tbody tr th {\n",
       "        vertical-align: top;\n",
       "    }\n",
       "\n",
       "    .dataframe thead th {\n",
       "        text-align: right;\n",
       "    }\n",
       "</style>\n",
       "<table border=\"1\" class=\"dataframe\">\n",
       "  <thead>\n",
       "    <tr style=\"text-align: right;\">\n",
       "      <th></th>\n",
       "      <th>id</th>\n",
       "      <th>sol</th>\n",
       "      <th>ls</th>\n",
       "      <th>min_temp</th>\n",
       "      <th>pressure</th>\n",
       "    </tr>\n",
       "    <tr>\n",
       "      <th>month</th>\n",
       "      <th></th>\n",
       "      <th></th>\n",
       "      <th></th>\n",
       "      <th></th>\n",
       "      <th></th>\n",
       "    </tr>\n",
       "  </thead>\n",
       "  <tbody>\n",
       "    <tr>\n",
       "      <th>6</th>\n",
       "      <td>735.306122</td>\n",
       "      <td>750.829932</td>\n",
       "      <td>164.897959</td>\n",
       "      <td>-75.299320</td>\n",
       "      <td>745.054422</td>\n",
       "    </tr>\n",
       "    <tr>\n",
       "      <th>5</th>\n",
       "      <td>1115.033557</td>\n",
       "      <td>1182.691275</td>\n",
       "      <td>132.885906</td>\n",
       "      <td>-79.308725</td>\n",
       "      <td>748.557047</td>\n",
       "    </tr>\n",
       "    <tr>\n",
       "      <th>7</th>\n",
       "      <td>714.549296</td>\n",
       "      <td>715.105634</td>\n",
       "      <td>194.894366</td>\n",
       "      <td>-72.281690</td>\n",
       "      <td>795.105634</td>\n",
       "    </tr>\n",
       "    <tr>\n",
       "      <th>4</th>\n",
       "      <td>1175.164948</td>\n",
       "      <td>1244.500000</td>\n",
       "      <td>104.365979</td>\n",
       "      <td>-82.747423</td>\n",
       "      <td>806.329897</td>\n",
       "    </tr>\n",
       "    <tr>\n",
       "      <th>12</th>\n",
       "      <td>931.602410</td>\n",
       "      <td>990.951807</td>\n",
       "      <td>344.692771</td>\n",
       "      <td>-74.451807</td>\n",
       "      <td>842.156627</td>\n",
       "    </tr>\n",
       "    <tr>\n",
       "      <th>11</th>\n",
       "      <td>874.246377</td>\n",
       "      <td>947.224638</td>\n",
       "      <td>314.536232</td>\n",
       "      <td>-71.985507</td>\n",
       "      <td>857.014493</td>\n",
       "    </tr>\n",
       "    <tr>\n",
       "      <th>1</th>\n",
       "      <td>1013.873563</td>\n",
       "      <td>1077.574713</td>\n",
       "      <td>15.281609</td>\n",
       "      <td>-77.160920</td>\n",
       "      <td>862.488506</td>\n",
       "    </tr>\n",
       "    <tr>\n",
       "      <th>8</th>\n",
       "      <td>718.078014</td>\n",
       "      <td>795.333333</td>\n",
       "      <td>224.347518</td>\n",
       "      <td>-68.382979</td>\n",
       "      <td>873.829787</td>\n",
       "    </tr>\n",
       "    <tr>\n",
       "      <th>3</th>\n",
       "      <td>1132.697917</td>\n",
       "      <td>1204.406250</td>\n",
       "      <td>75.010417</td>\n",
       "      <td>-83.307292</td>\n",
       "      <td>877.322917</td>\n",
       "    </tr>\n",
       "    <tr>\n",
       "      <th>10</th>\n",
       "      <td>955.723214</td>\n",
       "      <td>1034.669643</td>\n",
       "      <td>286.330357</td>\n",
       "      <td>-71.982143</td>\n",
       "      <td>887.312500</td>\n",
       "    </tr>\n",
       "    <tr>\n",
       "      <th>2</th>\n",
       "      <td>1109.882022</td>\n",
       "      <td>1175.853933</td>\n",
       "      <td>44.258427</td>\n",
       "      <td>-79.932584</td>\n",
       "      <td>889.455056</td>\n",
       "    </tr>\n",
       "    <tr>\n",
       "      <th>9</th>\n",
       "      <td>785.843284</td>\n",
       "      <td>861.186567</td>\n",
       "      <td>254.052239</td>\n",
       "      <td>-69.171642</td>\n",
       "      <td>913.305970</td>\n",
       "    </tr>\n",
       "  </tbody>\n",
       "</table>\n",
       "</div>"
      ],
      "text/plain": [
       "                id          sol          ls   min_temp    pressure\n",
       "month                                                             \n",
       "6       735.306122   750.829932  164.897959 -75.299320  745.054422\n",
       "5      1115.033557  1182.691275  132.885906 -79.308725  748.557047\n",
       "7       714.549296   715.105634  194.894366 -72.281690  795.105634\n",
       "4      1175.164948  1244.500000  104.365979 -82.747423  806.329897\n",
       "12      931.602410   990.951807  344.692771 -74.451807  842.156627\n",
       "11      874.246377   947.224638  314.536232 -71.985507  857.014493\n",
       "1      1013.873563  1077.574713   15.281609 -77.160920  862.488506\n",
       "8       718.078014   795.333333  224.347518 -68.382979  873.829787\n",
       "3      1132.697917  1204.406250   75.010417 -83.307292  877.322917\n",
       "10      955.723214  1034.669643  286.330357 -71.982143  887.312500\n",
       "2      1109.882022  1175.853933   44.258427 -79.932584  889.455056\n",
       "9       785.843284   861.186567  254.052239 -69.171642  913.305970"
      ]
     },
     "execution_count": 40,
     "metadata": {},
     "output_type": "execute_result"
    }
   ],
   "source": [
    "# Which months have the lowest and the highest atmospheric pressure on Mars? Get the answer by averaging the daily atmospheric \n",
    "# pressure of all the months.\n",
    "low_pressure = mars_table.groupby('month').mean().sort_values('pressure')\n",
    "low_pressure\n",
    "# The months with the lowest and highest atm. pressure are months 6 and 9, respectively"
   ]
  },
  {
   "cell_type": "code",
   "execution_count": 57,
   "id": "fc5b0e25",
   "metadata": {},
   "outputs": [
    {
     "data": {
      "text/plain": [
       "Text(0.5, 1.0, 'Monthly Atmospheric Pressure on Mars')"
      ]
     },
     "execution_count": 57,
     "metadata": {},
     "output_type": "execute_result"
    },
    {
     "data": {
      "image/png": "[encoded data removed]",
      "text/plain": [
       "<Figure size 432x288 with 1 Axes>"
      ]
     },
     "metadata": {
      "needs_background": "light"
     },
     "output_type": "display_data"
    }
   ],
   "source": [
    "# Plot the results as a bar chart\n",
    "mars_pressure = mars_table[['month', 'pressure']].copy()\n",
    "plt.bar(mars_pressure['month'], mars_pressure['pressure'], color='red')\n",
    "plt.xlabel('Month')\n",
    "plt.ylabel('Pressure')\n",
    "plt.title('Monthly Atmospheric Pressure on Mars')"
   ]
  },
  {
   "cell_type": "code",
   "execution_count": 63,
   "id": "3ba29a19",
   "metadata": {},
   "outputs": [
    {
     "data": {
      "text/plain": [
       "Timedelta('2021 days 00:00:00')"
      ]
     },
     "execution_count": 63,
     "metadata": {},
     "output_type": "execute_result"
    }
   ],
   "source": [
    "# About how many terrestrial (Earth) days exist in a Martian year? That is, in the time that Mars circles the Sun once, how \n",
    "# many days elapse on Earth? \n",
    "earth_days = ((mars_table['terrestrial_date'].max())-(mars_table['terrestrial_date'].min()))\n",
    "earth_days"
   ]
  },
  {
   "cell_type": "code",
   "execution_count": 62,
   "id": "278ac806",
   "metadata": {},
   "outputs": [
    {
     "data": {
      "text/plain": [
       "Text(0.5, 1.0, 'Temperature by Terrestrial Date')"
      ]
     },
     "execution_count": 62,
     "metadata": {},
     "output_type": "execute_result"
    },
    {
     "data": {
      "image/png": "[encoded data removed]",
      "text/plain": [
       "<Figure size 432x288 with 1 Axes>"
      ]
     },
     "metadata": {
      "needs_background": "light"
     },
     "output_type": "display_data"
    }
   ],
   "source": [
    "# Visually estimate the result by plotting the daily minimum temperature\n",
    "mars_year = mars_table.groupby('terrestrial_date')['min_temp'].mean()\n",
    "mars_year.plot.line(x='terrestrial_date', y='min-temp', color='green')\n",
    "plt.xlabel('Terrestrial Date')\n",
    "plt.ylabel('Minimum Temperature')\n",
    "plt.title('Temperature by Terrestrial Date')"
   ]
  },
  {
   "cell_type": "code",
   "execution_count": 64,
   "id": "15ed9426",
   "metadata": {},
   "outputs": [],
   "source": [
    "# Export the DataFrame to a CSV file\n",
    "output_csv = 'mars_data.csv'\n",
    "mars_table.to_csv(output_csv, header=True, index=False)"
   ]
  }
 ],
 "metadata": {
  "kernelspec": {
   "display_name": "PythonData",
   "language": "python",
   "name": "pythondata"
  },
  "language_info": {
   "codemirror_mode": {
    "name": "ipython",
    "version": 3
   },
   "file_extension": ".py",
   "mimetype": "text/x-python",
   "name": "python",
   "nbconvert_exporter": "python",
   "pygments_lexer": "ipython3",
   "version": "3.7.13"
  }
 },
 "nbformat": 4,
 "nbformat_minor": 5
}
