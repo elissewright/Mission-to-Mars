{
 "cells": [
  {
   "cell_type": "code",
   "execution_count": 1,
   "id": "84e5d1fa",
   "metadata": {},
   "outputs": [],
   "source": [
    "# Import Splinter and BeautifulSoup\n",
    "from splinter import Browser\n",
    "from bs4 import BeautifulSoup as soup\n",
    "from webdriver_manager.chrome import ChromeDriverManager"
   ]
  },
  {
   "cell_type": "code",
   "execution_count": 2,
   "id": "490eaebf",
   "metadata": {},
   "outputs": [
    {
     "name": "stderr",
     "output_type": "stream",
     "text": [
      "[WDM] - Downloading: 100%|██████████| 6.46M/6.46M [00:00<00:00, 14.4MB/s]\n"
     ]
    }
   ],
   "source": [
    "executable_path = {'executable_path': ChromeDriverManager().install()}\n",
    "browser = Browser('chrome', **executable_path, headless=False)"
   ]
  },
  {
   "cell_type": "code",
   "execution_count": 3,
   "id": "c4d7dc8a",
   "metadata": {},
   "outputs": [
    {
     "data": {
      "text/plain": [
       "True"
      ]
     },
     "execution_count": 3,
     "metadata": {},
     "output_type": "execute_result"
    }
   ],
   "source": [
    "# Open the website and delay the loading \n",
    "url = 'https://redplanetscience.com'\n",
    "browser.visit(url)\n",
    "browser.is_element_present_by_css('div.list_text', wait_time=1)"
   ]
  },
  {
   "cell_type": "code",
   "execution_count": 4,
   "id": "8a3b82d6",
   "metadata": {},
   "outputs": [],
   "source": [
    "# Set up the HTML parser\n",
    "html = browser.html\n",
    "news_soup = soup(html, 'html.parser')\n",
    "slide_elem = news_soup.select('div.list_text')"
   ]
  },
  {
   "cell_type": "code",
   "execution_count": 6,
   "id": "3b02ff8b",
   "metadata": {},
   "outputs": [],
   "source": [
    "# Scrape the title and preview text of each article on the landing page\n",
    "# Store each title-and-preview pair in a Python dictionary and give each dictionary two keys: title and preview\n",
    "# Store all the dictionaries in a Python list \n",
    "mars_articles = []\n",
    "for elem in slide_elem:\n",
    "    title = elem.find('div', class_='content_title').text\n",
    "    preview = elem.find('div', class_='article_teaser_body').text\n",
    "    mars_articles.append({'title': title, 'preview': preview})"
   ]
  },
  {
   "cell_type": "code",
   "execution_count": 15,
   "id": "1a357f5d",
   "metadata": {},
   "outputs": [
    {
     "name": "stdout",
     "output_type": "stream",
     "text": [
      "[{'preview': \"The agency's Mars 2020 mission is on its way. It will land at \"\n",
      "             'Jezero Crater in about seven months, on Feb. 18, 2021. ',\n",
      "  'title': 'NASA, ULA Launch Mars 2020 Perseverance Rover Mission to Red '\n",
      "           'Planet'},\n",
      " {'preview': 'Apollo 12 and the upcoming Mars 2020 mission may be separated by '\n",
      "             'half a century, but they share several goals unique in the '\n",
      "             'annals of space exploration.',\n",
      "  'title': 'Two of a Space Kind: Apollo 12 and Mars 2020'},\n",
      " {'preview': \"The symbols, mottos, and small objects added to the agency's \"\n",
      "             'newest Mars rover serve a variety of purposes, from functional '\n",
      "             'to decorative.',\n",
      "  'title': \"5 Hidden Gems Are Riding Aboard NASA's Perseverance Rover\"},\n",
      " {'preview': 'In honor of Hispanic Heritage Month, Christina Hernandez, an '\n",
      "             'instrument engineer on the Mars 2020 mission, talks about her '\n",
      "             'childhood and journey to NASA.',\n",
      "  'title': 'My Culture, My Voice'},\n",
      " {'preview': 'NASA and the Department of Energy have completed a more detailed '\n",
      "             'risk analysis for the Mars 2020 rover launch from Florida.',\n",
      "  'title': 'NASA Updates Mars 2020 Mission Environmental Review'},\n",
      " {'preview': 'Using an online tool to label Martian terrain types, you can '\n",
      "             'train an artificial intelligence algorithm that could improve '\n",
      "             'the way engineers guide the Curiosity rover.',\n",
      "  'title': \"NASA's Mars Rover Drivers Need Your Help\"},\n",
      " {'preview': 'New images taken from space offer the clearest orbital glimpse '\n",
      "             'yet of InSight as well as a view of Curiosity rolling along.',\n",
      "  'title': \"HiRISE Views NASA's InSight and Curiosity on Mars\"},\n",
      " {'preview': 'The following Q&As with members of the team answer some of the '\n",
      "             'most common questions about the burrowing device, part of a '\n",
      "             'science instrument called the Heat Flow and Physical Properties '\n",
      "             'Package (HP3).',\n",
      "  'title': \"Common Questions about InSight's 'Mole'\"},\n",
      " {'preview': 'With the Mars 2020 mission ramping up, the documentary — the '\n",
      "             'first of four about past JPL missions to the Red Planet to be '\n",
      "             'shown at Caltech — tells a gripping backstory.',\n",
      "  'title': \"Screening Soon: 'The Pathfinders' Trains Lens on Mars\"},\n",
      " {'preview': \"These are the scientists and engineers who built NASA's next \"\n",
      "             'Mars rover and who will guide it to a safe landing in Jezero '\n",
      "             'Crater. ',\n",
      "  'title': \"Meet the People Behind NASA's Perseverance Rover\"},\n",
      " {'preview': 'Five years after NASA’s MAVEN spacecraft entered into orbit '\n",
      "             'around Mars, data from the mission has led to the creation of a '\n",
      "             'map of electric current systems in the Martian atmosphere.',\n",
      "  'title': 'MAVEN Maps Electric Currents around Mars that are Fundamental to '\n",
      "           'Atmospheric Loss'},\n",
      " {'preview': 'The team has learned to meet new challenges as they work '\n",
      "             'remotely on the Mars mission.',\n",
      "  'title': \"NASA's Curiosity Keeps Rolling As Team Operates Rover From Home\"},\n",
      " {'preview': 'SuperCam is a rock-vaporizing instrument that will help '\n",
      "             'scientists hunt for Mars fossils.',\n",
      "  'title': \"All About the Laser (and Microphone) Atop Mars 2020, NASA's Next \"\n",
      "           'Rover'},\n",
      " {'preview': '155 students from across the U.S. have been chosen as '\n",
      "             \"semifinalists in NASA's essay contest to name the Mars 2020 \"\n",
      "             'rover, and see it launch from Cape Canaveral this July.',\n",
      "  'title': \"NASA's Mars 2020 Rover Closer to Getting Its Name\"},\n",
      " {'preview': \"Learn more about the agency's next Red Planet mission during a \"\n",
      "             'live event on June 17.',\n",
      "  'title': 'NASA to Hold Mars 2020 Perseverance Rover Launch Briefing'}]\n"
     ]
    }
   ],
   "source": [
    "# Print the list in your notebook\n",
    "from pprint import pprint\n",
    "pprint(mars_articles)"
   ]
  },
  {
   "cell_type": "code",
   "execution_count": 16,
   "id": "545fd35c",
   "metadata": {},
   "outputs": [],
   "source": [
    "# Optional: Export list to a JSON file or a MongoDB database \n",
    "from pymongo import MongoClient\n",
    "mongo = MongoClient(port=27017)"
   ]
  },
  {
   "cell_type": "code",
   "execution_count": 18,
   "id": "db82ad26",
   "metadata": {},
   "outputs": [],
   "source": [
    "mars_articles_db = mongo['mars_db']"
   ]
  },
  {
   "cell_type": "code",
   "execution_count": 20,
   "id": "174cd8a8",
   "metadata": {},
   "outputs": [
    {
     "data": {
      "text/plain": [
       "[]"
      ]
     },
     "execution_count": 20,
     "metadata": {},
     "output_type": "execute_result"
    }
   ],
   "source": [
    "mars_articles_collection = mars_articles_db['mars_collection']\n",
    "mars_articles_db.list_collection_names()"
   ]
  },
  {
   "cell_type": "code",
   "execution_count": 23,
   "id": "c0e321ff",
   "metadata": {},
   "outputs": [
    {
     "data": {
      "text/plain": [
       "<pymongo.results.InsertManyResult object at 0x0000022D0B421C48>"
      ]
     },
     "execution_count": 23,
     "metadata": {},
     "output_type": "execute_result"
    }
   ],
   "source": [
    "mars_articles_collection.insert_many(mars_articles)"
   ]
  },
  {
   "cell_type": "code",
   "execution_count": 24,
   "id": "fe6fb9db",
   "metadata": {},
   "outputs": [
    {
     "name": "stdout",
     "output_type": "stream",
     "text": [
      "['admin', 'config', 'local', 'mars_db', 'my_db']\n"
     ]
    }
   ],
   "source": [
    "print(mongo.list_database_names())"
   ]
  },
  {
   "cell_type": "code",
   "execution_count": 25,
   "id": "60fd9f3a",
   "metadata": {},
   "outputs": [
    {
     "name": "stdout",
     "output_type": "stream",
     "text": [
      "{'_id': ObjectId('637be5a4a484b2bf752859a8'), 'title': 'NASA, ULA Launch Mars 2020 Perseverance Rover Mission to Red Planet', 'preview': \"The agency's Mars 2020 mission is on its way. It will land at Jezero Crater in about seven months, on Feb. 18, 2021. \"}\n",
      "{'_id': ObjectId('637be5a4a484b2bf752859a9'), 'title': 'Two of a Space Kind: Apollo 12 and Mars 2020', 'preview': 'Apollo 12 and the upcoming Mars 2020 mission may be separated by half a century, but they share several goals unique in the annals of space exploration.'}\n",
      "{'_id': ObjectId('637be5a4a484b2bf752859aa'), 'title': \"5 Hidden Gems Are Riding Aboard NASA's Perseverance Rover\", 'preview': \"The symbols, mottos, and small objects added to the agency's newest Mars rover serve a variety of purposes, from functional to decorative.\"}\n",
      "{'_id': ObjectId('637be5a4a484b2bf752859ab'), 'title': 'My Culture, My Voice', 'preview': 'In honor of Hispanic Heritage Month, Christina Hernandez, an instrument engineer on the Mars 2020 mission, talks about her childhood and journey to NASA.'}\n",
      "{'_id': ObjectId('637be5a4a484b2bf752859ac'), 'title': 'NASA Updates Mars 2020 Mission Environmental Review', 'preview': 'NASA and the Department of Energy have completed a more detailed risk analysis for the Mars 2020 rover launch from Florida.'}\n",
      "{'_id': ObjectId('637be5a4a484b2bf752859ad'), 'title': \"NASA's Mars Rover Drivers Need Your Help\", 'preview': 'Using an online tool to label Martian terrain types, you can train an artificial intelligence algorithm that could improve the way engineers guide the Curiosity rover.'}\n",
      "{'_id': ObjectId('637be5a4a484b2bf752859ae'), 'title': \"HiRISE Views NASA's InSight and Curiosity on Mars\", 'preview': 'New images taken from space offer the clearest orbital glimpse yet of InSight as well as a view of Curiosity rolling along.'}\n",
      "{'_id': ObjectId('637be5a4a484b2bf752859af'), 'title': \"Common Questions about InSight's 'Mole'\", 'preview': 'The following Q&As with members of the team answer some of the most common questions about the burrowing device, part of a science instrument called the Heat Flow and Physical Properties Package (HP3).'}\n",
      "{'_id': ObjectId('637be5a4a484b2bf752859b0'), 'title': \"Screening Soon: 'The Pathfinders' Trains Lens on Mars\", 'preview': 'With the Mars 2020 mission ramping up, the documentary — the first of four about past JPL missions to the Red Planet to be shown at Caltech — tells a gripping backstory.'}\n",
      "{'_id': ObjectId('637be5a4a484b2bf752859b1'), 'title': \"Meet the People Behind NASA's Perseverance Rover\", 'preview': \"These are the scientists and engineers who built NASA's next Mars rover and who will guide it to a safe landing in Jezero Crater. \"}\n",
      "{'_id': ObjectId('637be5a4a484b2bf752859b2'), 'title': 'MAVEN Maps Electric Currents around Mars that are Fundamental to Atmospheric Loss', 'preview': 'Five years after NASA’s MAVEN spacecraft entered into orbit around Mars, data from the mission has led to the creation of a map of electric current systems in the Martian atmosphere.'}\n",
      "{'_id': ObjectId('637be5a4a484b2bf752859b3'), 'title': \"NASA's Curiosity Keeps Rolling As Team Operates Rover From Home\", 'preview': 'The team has learned to meet new challenges as they work remotely on the Mars mission.'}\n",
      "{'_id': ObjectId('637be5a4a484b2bf752859b4'), 'title': \"All About the Laser (and Microphone) Atop Mars 2020, NASA's Next Rover\", 'preview': 'SuperCam is a rock-vaporizing instrument that will help scientists hunt for Mars fossils.'}\n",
      "{'_id': ObjectId('637be5a4a484b2bf752859b5'), 'title': \"NASA's Mars 2020 Rover Closer to Getting Its Name\", 'preview': \"155 students from across the U.S. have been chosen as semifinalists in NASA's essay contest to name the Mars 2020 rover, and see it launch from Cape Canaveral this July.\"}\n",
      "{'_id': ObjectId('637be5a4a484b2bf752859b6'), 'title': 'NASA to Hold Mars 2020 Perseverance Rover Launch Briefing', 'preview': \"Learn more about the agency's next Red Planet mission during a live event on June 17.\"}\n"
     ]
    }
   ],
   "source": [
    "results = mars_articles_collection.find()\n",
    "for result in results:\n",
    "    print(result)"
   ]
  },
  {
   "cell_type": "code",
   "execution_count": 26,
   "id": "609517cd",
   "metadata": {},
   "outputs": [],
   "source": [
    "# Close the browser\n",
    "browser.quit()"
   ]
  }
 ],
 "metadata": {
  "kernelspec": {
   "display_name": "PythonData",
   "language": "python",
   "name": "pythondata"
  },
  "language_info": {
   "codemirror_mode": {
    "name": "ipython",
    "version": 3
   },
   "file_extension": ".py",
   "mimetype": "text/x-python",
   "name": "python",
   "nbconvert_exporter": "python",
   "pygments_lexer": "ipython3",
   "version": "3.7.13"
  }
 },
 "nbformat": 4,
 "nbformat_minor": 5
}
